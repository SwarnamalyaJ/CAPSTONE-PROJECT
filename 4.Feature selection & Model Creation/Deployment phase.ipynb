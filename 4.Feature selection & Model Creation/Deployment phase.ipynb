{
 "cells": [
  {
   "cell_type": "code",
   "execution_count": 3,
   "id": "9c163f63-b58b-4e58-a69f-ca076d2b2fbe",
   "metadata": {},
   "outputs": [
    {
     "name": "stdout",
     "output_type": "stream",
     "text": [
      "Prediction: <bound method ForestClassifier.predict of RandomForestClassifier(random_state=42)>\n"
     ]
    }
   ],
   "source": [
    "import pickle\n",
    "# Load the model\n",
    "loaded_model = pickle.load(open(\"finalised_model.sav\", 'rb'))\n",
    "\n",
    "# Example prediction\n",
    "prediction = loaded_model.predict\n",
    "print(\"Prediction:\", prediction)\n",
    "\n"
   ]
  },
  {
   "cell_type": "code",
   "execution_count": null,
   "id": "ac7bfc32-2e29-4539-b5e0-300d6965c7d6",
   "metadata": {},
   "outputs": [],
   "source": []
  },
  {
   "cell_type": "code",
   "execution_count": null,
   "id": "89a2d21b-235e-4fa9-ad5c-3cf0e0533f20",
   "metadata": {},
   "outputs": [],
   "source": []
  }
 ],
 "metadata": {
  "kernelspec": {
   "display_name": "Python 3 (ipykernel)",
   "language": "python",
   "name": "python3"
  },
  "language_info": {
   "codemirror_mode": {
    "name": "ipython",
    "version": 3
   },
   "file_extension": ".py",
   "mimetype": "text/x-python",
   "name": "python",
   "nbconvert_exporter": "python",
   "pygments_lexer": "ipython3",
   "version": "3.10.15"
  }
 },
 "nbformat": 4,
 "nbformat_minor": 5
}
